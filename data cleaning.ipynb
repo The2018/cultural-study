{
 "cells": [
  {
   "cell_type": "markdown",
   "metadata": {},
   "source": [
    "# Data cleaning and preprocessing"
   ]
  },
  {
   "cell_type": "markdown",
   "metadata": {},
   "source": [
    "This project is dedicated to the application of machine learning algorithms and tools to analysis of anthropological and sociological datasets. We would experiment with both supervised and unsupervised learning algorithms, such as clustering, decision trees, association rules, and artificial neural networks and many others. The goal is to extract meaningful patterns from such datasets as World Value Survey.\n",
    "\n",
    "Before we apply any algorithms to the WVS data, we need to make sure that the data has high quality. We need to detect and correct corrupt, invalid, or inaccurate records from the data set and changing the range of data value for easiler processing later."
   ]
  },
  {
   "cell_type": "markdown",
   "metadata": {},
   "source": [
    "# 1. Data cleaning"
   ]
  },
  {
   "cell_type": "markdown",
   "metadata": {},
   "source": [
    "1. Add v1 headers to dataset and save under different name\n",
    "2. Remove columns which need to be combined into one column\n",
    "3. Store this in a new file\n",
    "4. Replace the negative value\n",
    "5. Drop NA, see the length before and after"
   ]
  },
  {
   "cell_type": "markdown",
   "metadata": {},
   "source": [
    "6. if the length is sufficient, then counts per country and store it in a file\n",
    "7. put the labels of clusters in country and show to Marina\n",
    "8. we will select several most representative country in each cluster\n",
    "9. normalize values\n",
    "10. run clustering algorithm with different k from 1 to 10 and output result to file\n",
    "11. hierarchical clustering\n",
    "12. remove objective and do clustering again"
   ]
  },
  {
   "cell_type": "markdown",
   "metadata": {},
   "source": [
    "data_0.csv: data with headers(the title of questions)  \n",
    "data_1.csv: data with columns combined, religion code transformed  \n",
    "data_2.csv: data with negative values replaced  \n",
    "data_3.csv: data with invalid/meaningless data dropped  \n",
    "data_4.csv: normalized data  \n",
    "data_5.csv: normalized data with only several most representative country in each cluster"
   ]
  },
  {
   "cell_type": "code",
   "execution_count": 1,
   "metadata": {},
   "outputs": [],
   "source": [
    "raw_data = \"../data_set/cultural_data/clean_data/clean_data.csv\"\n",
    "WVS_questions = \"../data_set/cultural_data/WVS_topics_ questions.csv\"\n",
    "country_name = \"../data_set/cultural_data/clean_data/country_code.csv\"\n",
    "religion_name = \"../data_set/cultural_data/clean_data/religion_code.csv\""
   ]
  },
  {
   "cell_type": "code",
   "execution_count": 2,
   "metadata": {},
   "outputs": [],
   "source": [
    "import pandas as pd\n",
    "import numpy as np\n",
    "\n",
    "data = pd.read_csv(raw_data,header=None)\n",
    "questions = pd.read_csv(WVS_questions,header=None)\n",
    "country = pd.read_csv(country_name,header=None)\n",
    "religion = pd.read_csv(religion_name,header=None)"
   ]
  },
  {
   "cell_type": "markdown",
   "metadata": {},
   "source": [
    "Add headers to dataframes of questions, country, religion and add the title of questions as headers to data."
   ]
  },
  {
   "cell_type": "code",
   "execution_count": 3,
   "metadata": {},
   "outputs": [],
   "source": [
    "questions.columns = [\"title\",\"min\",\"max\",\"type\",\"norm_type\"]\n",
    "data.columns = questions[\"title\"]\n",
    "country.columns = [\"name\"]\n",
    "religion.columns = [\"data\",\"name\",\"type\"]\n",
    "\n",
    "data.to_csv(\"../data_set/cultural_data/clean_data/data_0.csv\", index = False)"
   ]
  },
  {
   "cell_type": "markdown",
   "metadata": {},
   "source": [
    "Combine the dulplicate columns with norm_type = 66,77 into separate columns"
   ]
  },
  {
   "cell_type": "code",
   "execution_count": 4,
   "metadata": {},
   "outputs": [],
   "source": [
    "# Combine columns of invalid value\n",
    "ls = [[],[]]\n",
    "ls[0] = ['V125_'+str(i) for i in range(16)]\n",
    "ls[1] = ['V215_'+str(i) for i in range(1,19)]\n",
    "ls[1].remove('V215_9')\n",
    "name = ['V125','V215']\n",
    "\n",
    "for i in range(len(ls)):\n",
    "    columns = ls[i]\n",
    "    frames = []\n",
    "    result = pd.DataFrame(index=data.index)\n",
    "\n",
    "    for column in columns:\n",
    "        cur_data = data[data[column] != -4][column]\n",
    "        frames.append(cur_data)\n",
    "\n",
    "    result = pd.concat(frames)\n",
    "    result_clean = result.reset_index().drop_duplicates(subset='index',keep='first').set_index('index')\n",
    "        \n",
    "    index = data.columns.get_loc(columns[0])\n",
    "    data = data.drop(columns=columns)\n",
    "    n = name[i]\n",
    "    data.insert(index,n,result_clean)\n",
    "\n",
    "    question = questions[questions['title'] == ls[i][0]].iloc[0]\n",
    "    row = [n,question['min'],question['max'],question['type'],3]\n",
    "    a_series = pd.Series(row, index = questions.columns)\n",
    "    questions = questions.append(a_series, ignore_index=True)\n"
   ]
  },
  {
   "cell_type": "markdown",
   "metadata": {},
   "source": [
    "Clean the religion dataset, output the cleaned religion and convert the religion column in data to categorical codes"
   ]
  },
  {
   "cell_type": "code",
   "execution_count": 5,
   "metadata": {},
   "outputs": [
    {
     "name": "stdout",
     "output_type": "stream",
     "text": [
      "      index                               name  type_n\n",
      "0         0                               None       0\n",
      "1         1                          Aglipayan       4\n",
      "2         2                           Al-Hadis       5\n",
      "3         3                           Alliance       4\n",
      "4         4  Ancestral worshipping / Tradition      10\n",
      "..      ...                                ...     ...\n",
      "97   710002   ZA: African Traditional Religion      10\n",
      "98       -5                                 Na      -1\n",
      "99       -4                                 Na      -1\n",
      "100      -2                                 Na      -1\n",
      "101      -1                                 Na      -1\n",
      "\n",
      "[102 rows x 3 columns]\n",
      "0        5\n",
      "1        5\n",
      "2        5\n",
      "3        5\n",
      "4        5\n",
      "        ..\n",
      "90345    4\n",
      "90346    4\n",
      "90347    4\n",
      "90348    4\n",
      "90349    4\n",
      "Name: V144, Length: 90350, dtype: int64\n"
     ]
    }
   ],
   "source": [
    "cleaned_religion = religion[4:].reset_index()\n",
    "\n",
    "religion_df = pd.DataFrame(columns=[\"index\",\"name\",\"type_n\"])\n",
    "religion_data = cleaned_religion[\"data\"].str.split(\"'\", n = 1, expand = True)\n",
    "religion_data[1] = religion_data[1].str.replace(\"'\",\"\")\n",
    "religion_data[0] = religion_data[0].astype(int)\n",
    "\n",
    "religion_map = {'Non-religious':0,'Spiritualism':1,'General':2,'Judaism':3,'Christianity':4,'Islam':5,\n",
    "                'Syncretism':6,'Confucianism':7,'Taoism':8,'Buddhism':9,'Ethnic':10,\n",
    "                'Jainism':11,'Paganism':12,'Zoroastrianism':13,np.nan:-1}\n",
    "religion_df[\"index\"],religion_df[\"name\"] = religion_data[0],religion_data[1]\n",
    "religion_df[\"type_n\"] = [religion_map[x] for x in cleaned_religion[\"type\"]]\n",
    "\n",
    "new = pd.DataFrame({\"index\":[-5,-4,-2,-1],\"name\":[\"Na\"]*4,\"type_n\":[-1]*4})\n",
    "religion_df = pd.concat([religion_df,new]).reset_index().drop(columns=[\"level_0\"])\n",
    "print(religion_df)\n",
    "religion_df.to_csv(\"../data_set/cultural_data/clean_data/cleaned_religion.csv\", index = False)\n",
    "\n",
    "data[\"V144\"] = [religion_df[religion_df[\"index\"]==x][\"type_n\"].iloc[0] for x in data[\"V144\"]]\n",
    "\n",
    "print(data[\"V144\"])\n",
    "data.to_csv(\"../data_set/cultural_data/clean_data/data_1.csv\", index = False)\n"
   ]
  },
  {
   "cell_type": "markdown",
   "metadata": {},
   "source": [
    "Replace the negative value with NA, drop the columns with more than 5000 NA and then drop all rows with NA"
   ]
  },
  {
   "cell_type": "code",
   "execution_count": 6,
   "metadata": {},
   "outputs": [
    {
     "name": "stdout",
     "output_type": "stream",
     "text": [
      "90350\n",
      "37401\n"
     ]
    }
   ],
   "source": [
    "data[data<0] = np.nan\n",
    "print(len(data))\n",
    "ls = []\n",
    "for column in data.columns:\n",
    "    if data[column].isnull().sum() > 5000:\n",
    "        ls.append(column)\n",
    "# print(ls,len(ls))\n",
    "\n",
    "cur_data = data.drop(columns = ls)\n",
    "cur_data = cur_data.dropna()\n",
    "print(len(cur_data))\n",
    "\n",
    "data = cur_data\n",
    "data.to_csv(\"../data_set/cultural_data/clean_data/data_2.csv\", index = False)\n"
   ]
  },
  {
   "cell_type": "markdown",
   "metadata": {},
   "source": [
    "Process country dataframe and output the cleaned country dataset and the respondent per country"
   ]
  },
  {
   "cell_type": "code",
   "execution_count": 7,
   "metadata": {},
   "outputs": [],
   "source": [
    "# Processing country names\n",
    "new = country['name'].str.split(\"'\", n = 1, expand = True)\n",
    "new[1] = new[1].str.replace(\"'\",\"\")\n",
    "new[0] = new[0].astype(int)\n",
    "country['index'], country['name'] = new[0],new[1]\n",
    "country.to_csv(\"../data_set/cultural_data/clean_data/country.csv\", index = False)"
   ]
  },
  {
   "cell_type": "code",
   "execution_count": 8,
   "metadata": {},
   "outputs": [],
   "source": [
    "country_data = data.groupby([\"V2\"]).count().sort_values([\"V4\"],ascending=False)\n",
    "\n",
    "country_df = pd.DataFrame(columns=[\"name\",\"index\",\"respondents\"])\n",
    "country_df[\"index\"] = country_data.index\n",
    "country_df[\"respondents\"] = np.array(country_data['V4'])\n",
    "\n",
    "country_df[\"name\"] = [country[country['index'] == x]['name'].iloc[0] for x in country_df[\"index\"]]\n",
    "\n",
    "country_df.to_csv(\"../data_set/cultural_data/clean_data/country_respondent.csv\", index = False)\n"
   ]
  },
  {
   "cell_type": "markdown",
   "metadata": {},
   "source": [
    "Drop values in the data with invalid data or not meaningful data"
   ]
  },
  {
   "cell_type": "code",
   "execution_count": 10,
   "metadata": {},
   "outputs": [
    {
     "name": "stdout",
     "output_type": "stream",
     "text": [
      "['V250', 'V239', 'V59', 'V57', 'V58', 'V235', 'V248', 'V190', 'V240', 'V238', 'V242', 'V191', 'V229', 'V188']\n",
      "Index(['V2', 'V4', 'V5', 'V6', 'V7', 'V8', 'V9', 'V10', 'V11', 'V12',\n",
      "       ...\n",
      "       'V217', 'V218', 'V219', 'V220', 'V221', 'V222', 'V223', 'V224', 'V225',\n",
      "       'V227'],\n",
      "      dtype='object', name='title', length=139)\n"
     ]
    }
   ],
   "source": [
    "# Remove columns containing year of birth, weight, language\n",
    "data = data.drop(columns=[\"V241\",\"V258\",\"V247\"])\n",
    "\n",
    "# Remove columns containing objective values\n",
    "rm_columns = questions[questions[\"type\"]==\"Objective\"][\"title\"]\n",
    "ls = list(rm_columns) + list(data.columns)\n",
    "rm_columns = list(set([x for x in ls if ls.count(x) > 1]))\n",
    "rm_columns.remove(\"V2\")\n",
    "\n",
    "data = data.drop(columns=rm_columns)\n",
    "data.to_csv(\"../data_set/cultural_data/clean_data/data_3.csv\", index = False)"
   ]
  },
  {
   "cell_type": "markdown",
   "metadata": {},
   "source": [
    "Normalize the dataset"
   ]
  },
  {
   "cell_type": "code",
   "execution_count": 11,
   "metadata": {
    "scrolled": false
   },
   "outputs": [],
   "source": [
    "# Normalize the data\n",
    "columns = data.columns.to_list()\n",
    "columns.remove(\"V2\")\n",
    "\n",
    "for column in columns:\n",
    "    minimum = int(data[column].min())\n",
    "    maximum = int(data[column].max())\n",
    "    norm_type = questions[questions[\"title\"]==column].norm_type.iloc[0]\n",
    "    \n",
    "    if norm_type == 2:\n",
    "        for i in range(minimum,maximum+1):\n",
    "            index = data.columns.get_loc(column) + i\n",
    "            name = column+\"_\"+str(i)\n",
    "            col = [0]*len(data[column])\n",
    "            for j in range(len(data[column])):\n",
    "                col[j] = 1 if data[column].iloc[j] == i else 0\n",
    "            data.insert(index,name,col)\n",
    "        data = data.drop(columns=[column])\n",
    "\n",
    "    elif norm_type == 1:\n",
    "        data[column] = (data[column]-minimum)/(maximum-minimum)\n",
    "        \n",
    "    elif norm_type == 3:\n",
    "        data[column] = 1-(data[column]-minimum)/(maximum-minimum)\n",
    "        \n",
    "data.to_csv(\"../data_set/cultural_data/clean_data/data_4.csv\", index = False)"
   ]
  },
  {
   "cell_type": "markdown",
   "metadata": {},
   "source": [
    "We put the labels of cultural clusters in country_respondent.csv and we will select several most representative country in each cultural cluster to enhance the clustering result"
   ]
  },
  {
   "cell_type": "code",
   "execution_count": 12,
   "metadata": {},
   "outputs": [],
   "source": [
    "country_r_name = \"../data_set/cultural_data/clean_data/country_respondent_3.csv\"\n",
    "country_r = pd.read_csv(country_r_name,header=0)\n",
    "\n",
    "data[\"V2\"] = [country_r[country_r['index'] == x]['label'].iloc[0] for x in data[\"V2\"]]\n",
    "data = data[data[\"V2\"] > 0]\n",
    "data.drop(columns=[\"V2\"])\n",
    "\n",
    "data.to_csv(\"../data_set/cultural_data/clean_data/data_5.csv\", index = False)"
   ]
  },
  {
   "cell_type": "markdown",
   "metadata": {},
   "source": [
    "After cleaning up data and normilizing data, we can begin to use kmeans model implemented in sklearn to cluster data.\n",
    "\n",
    "We compute SSE for each cluster size, plot it on the graph and try to find an elbow point that indicated the best k value."
   ]
  },
  {
   "cell_type": "code",
   "execution_count": 13,
   "metadata": {},
   "outputs": [
    {
     "name": "stdout",
     "output_type": "stream",
     "text": [
      "3\n",
      "4\n",
      "5\n",
      "6\n",
      "7\n",
      "8\n",
      "9\n",
      "10\n",
      "11\n"
     ]
    },
    {
     "data": {
      "image/png": "[encoded data removed]",
      "text/plain": [
       "<Figure size 432x288 with 1 Axes>"
      ]
     },
     "metadata": {
      "needs_background": "light"
     },
     "output_type": "display_data"
    }
   ],
   "source": [
    "from sklearn.cluster import KMeans\n",
    "import matplotlib.pyplot as plt\n",
    "%matplotlib inline\n",
    "\n",
    "sse = {}\n",
    "for i in range(3,12):\n",
    "    kmeans = KMeans(n_clusters=i)\n",
    "    kmeans.fit(data)\n",
    "    sse[i] = kmeans.inertia_ \n",
    "    print(i)\n",
    "\n",
    "plt.figure()\n",
    "plt.plot(list(sse.keys()), list(sse.values()))\n",
    "plt.xlabel(\"Number of cluster\")\n",
    "plt.ylabel(\"SSE\")\n",
    "plt.show()\n"
   ]
  },
  {
   "cell_type": "code",
   "execution_count": 14,
   "metadata": {},
   "outputs": [
    {
     "name": "stdout",
     "output_type": "stream",
     "text": [
      "   label V2    V4\n",
      "            count\n",
      "0      0  1  1167\n",
      "1      0  2    76\n",
      "2      0  3   552\n",
      "3      0  4     6\n",
      "4      1  4    44\n",
      "5      1  5   339\n",
      "6      1  6  2732\n",
      "7      1  7   102\n",
      "8      2  6   354\n",
      "9      2  7  3300\n",
      "10     3  1     2\n",
      "11     3  2  1458\n",
      "12     3  3  1840\n",
      "13     3  4   100\n",
      "14     4  1  3756\n",
      "15     4  2     8\n",
      "16     5  2     5\n",
      "17     5  3  1322\n",
      "18     5  4     2\n",
      "19     5  5     6\n",
      "20     6  3     3\n",
      "21     6  4  1322\n",
      "22     6  5  3435\n",
      "23     6  6   187\n"
     ]
    }
   ],
   "source": [
    "kmeans = KMeans(n_clusters=7)\n",
    "kmeans.fit(data)\n",
    "labels = kmeans.labels_\n",
    "\n",
    "data[\"label\"] = labels\n",
    "result = data.groupby([\"label\",\"V2\"]).agg({'V4': [\"count\"]}).reset_index()\n",
    "\n",
    "data.to_csv(\"../data_set/cultural_data/clean_data/data_6.csv\", index = False)\n",
    "result.to_csv(\"../data_set/cultural_data/clean_data/result.csv\", index = False)\n",
    "print(result)"
   ]
  }
 ],
 "metadata": {
  "kernelspec": {
   "display_name": "Python 3",
   "language": "python",
   "name": "python3"
  },
  "language_info": {
   "codemirror_mode": {
    "name": "ipython",
    "version": 3
   },
   "file_extension": ".py",
   "mimetype": "text/x-python",
   "name": "python",
   "nbconvert_exporter": "python",
   "pygments_lexer": "ipython3",
   "version": "3.8.3"
  }
 },
 "nbformat": 4,
 "nbformat_minor": 4
}
